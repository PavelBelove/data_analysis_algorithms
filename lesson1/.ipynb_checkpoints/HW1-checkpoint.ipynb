{
 "cells": [
  {
   "cell_type": "markdown",
   "metadata": {},
   "source": [
    "### Домашнее задание <a class=\"anchor\" id=\"hw\"></a><center>"
   ]
  },
  {
   "cell_type": "markdown",
   "metadata": {
    "colab_type": "text",
    "id": "huXrhXQsZTMt"
   },
   "source": [
    "1. Подберите скорость обучения (eta) и количество итераций"
   ]
  },
  {
   "cell_type": "markdown",
   "metadata": {},
   "source": [
    "#### Начиная с eta = 0.02 алгоритм расходится, меньшие значения, при достаточном количестве итерраций, работают. Но MSE при первых прогонах увеличивается, принимая экстремально большие значения. То есть при обучении на другом наборе данных алгоритм вполне может разойтись. С другой стороны, на этих данных при eta = 0.018, модель сходится к 120-й итеррации. В то время, как при eta = 0.012 требуется  400 прогонов, зато MSE монотонно убывает.\n",
    "#### Руководствуясь данной схемой, оставил второй вариант - медленно но верно.\n",
    "<img src='images/gradient_descent_lr.png' width=600px>\n",
    "\n",
    "#### Но чтобы, таки, алгоритм быстрее сходился, изменил условие уменьшения eta, теперь оно снижается каждые 50 итерраций."
   ]
  },
  {
   "cell_type": "code",
   "execution_count": 104,
   "metadata": {
    "colab": {
     "base_uri": "https://localhost:8080/",
     "height": 185
    },
    "colab_type": "code",
    "id": "IDB22MQKMYaJ",
    "outputId": "4c03219e-a57c-4583-f439-6699fd0619bb"
   },
   "outputs": [
    {
     "name": "stdout",
     "output_type": "stream",
     "text": [
      "Number of objects = 2        \n",
      "Learning rate = 0.0125        \n",
      "Initial weights = [1.  0.5] \n",
      "\n",
      "Iteration #0: W_new = [ 7.75   24.0625], MSE = 3047.75\n",
      "Iteration #10: W_new = [23.9763241  20.28625035], MSE = 3081.57\n",
      "Iteration #20: W_new = [33.45596909 17.78497311], MSE = 2565.21\n",
      "Iteration #30: W_new = [38.97593422 16.05010003], MSE = 2210.48\n",
      "Iteration #40: W_new = [42.17304706 14.781826  ], MSE = 1932.68\n",
      "Iteration #50: W_new = [44.00856098 13.80303587], MSE = 1700.05\n",
      "Iteration #60: W_new = [43.56554982  5.31106006], MSE = 84.24\n",
      "Iteration #70: W_new = [44.03255683  4.15292666], MSE = 45.16\n",
      "Iteration #80: W_new = [44.41352404  3.94942382], MSE = 44.2\n",
      "Iteration #90: W_new = [44.66027595  3.88784667], MSE = 44.05\n",
      "Iteration #100: W_new = [44.81403049  3.85785784], MSE = 44.0\n",
      "Iteration #110: W_new = [44.90207238  3.84159499], MSE = 43.98\n",
      "Iteration #120: W_new = [44.95893899  3.83127924], MSE = 43.97\n",
      "Iteration #130: W_new = [44.99564843  3.8246225 ], MSE = 43.97\n",
      "Iteration #140: W_new = [45.01934541  3.82032542], MSE = 43.97\n",
      "Iteration #150: W_new = [45.03464249  3.81755153], MSE = 43.97\n"
     ]
    }
   ],
   "source": [
    "## n = X.shape[1]\n",
    "\n",
    "eta = 0.0125\n",
    "n_iter = 151\n",
    "\n",
    "W = np.array([1, 0.5])\n",
    "print(f'Number of objects = {n} \\\n",
    "       \\nLearning rate = {eta} \\\n",
    "       \\nInitial weights = {W} \\n')\n",
    "\n",
    "for i in range(n_iter):\n",
    "    y_pred = np.dot(X, W)\n",
    "    err = calc_mse(y, y_pred)\n",
    "    for k in range(W.shape[0]):\n",
    "        W[k] -= eta * (1/n * 2 * X[:, k] @ (y_pred - y))\n",
    "    if i % 50 == 0: # Изменил условие уменьшения eta\n",
    "        eta /= 1.1       \n",
    "    if i % 10 == 0:\n",
    "        print(f'Iteration #{i}: W_new = {W}, MSE = {round(err, 2)}')"
   ]
  },
  {
   "cell_type": "markdown",
   "metadata": {
    "colab_type": "text",
    "id": "5Qu1o4JhZYwI"
   },
   "source": [
    "2*. В этом коде мы избавляемся от итераций по весам, но тут есть ошибка, исправьте ее"
   ]
  },
  {
   "cell_type": "markdown",
   "metadata": {},
   "source": [
    "#### Ошибка говорит о несоответствии размерностей. Очевидно, для корректного решения нужно транспонировать матрицу Х. Кроме того, требуют корректировки eta и n_iter"
   ]
  },
  {
   "cell_type": "code",
   "execution_count": 115,
   "metadata": {},
   "outputs": [
    {
     "name": "stdout",
     "output_type": "stream",
     "text": [
      "Number of objects = 2        \n",
      "Learning rate = 0.001        \n",
      "Initial weights = [1.  0.5] \n",
      "\n",
      "Iteration #0: W_new = [2.08 4.27], MSE = 3047.75\n",
      "Iteration #100: W_new = [28.38281518  6.83710367], MSE = 177.43\n",
      "Iteration #200: W_new = [38.38986469  5.02247953], MSE = 65.33\n",
      "Iteration #300: W_new = [42.39314129  4.29654705], MSE = 47.39\n",
      "Iteration #400: W_new = [43.99463466  4.00614091], MSE = 44.52\n",
      "Iteration #500: W_new = [44.63530512  3.8899652 ], MSE = 44.06\n",
      "Iteration #600: W_new = [44.89160255  3.84348962], MSE = 43.98\n",
      "Iteration #700: W_new = [44.99413322  3.82489726], MSE = 43.97\n",
      "Iteration #800: W_new = [45.03515017  3.81745947], MSE = 43.97\n",
      "Iteration #900: W_new = [45.05155882  3.81448401], MSE = 43.97\n"
     ]
    }
   ],
   "source": [
    "n = X.shape[1]\n",
    "\n",
    "# ИЗМЕНЕНИЯ\n",
    "eta = 1e-3 \n",
    "n_iter = 1000\n",
    "\n",
    "\n",
    "W = np.array([1, 0.5])\n",
    "print(f'Number of objects = {n} \\\n",
    "       \\nLearning rate = {eta} \\\n",
    "       \\nInitial weights = {W} \\n')\n",
    "\n",
    "for i in range(n_iter):\n",
    "    y_pred = np.dot(X, W)\n",
    "    err = calc_mse(y, y_pred)\n",
    "    for k in range(W.shape[0]):\n",
    "        W[k] -= eta * (1/n * 2 * X[:, k] @ (y_pred - y))\n",
    "    # ИЗМЕНЕНИЯ\n",
    "    W -= eta * (1/n * 2 * np.dot(X.T, y_pred - y))\n",
    "    if i % 100 == 0:\n",
    "        print(f'Iteration #{i}: W_new = {W}, MSE = {round(err,2)}')"
   ]
  },
  {
   "cell_type": "markdown",
   "metadata": {},
   "source": [
    "3*. Вместо того, чтобы задавать количество итераций, задайте другое условие останова алгоритма - когда веса перестают изменяться меньше определенного порога $\\epsilon$.\n",
    "\n",
    "#### Условие опасное. Алгоритм может и не сойтись, при  подборе параметров такая ситуация возможна.  Поэтому резонно оставить оба условия. "
   ]
  },
  {
   "cell_type": "code",
   "execution_count": 141,
   "metadata": {},
   "outputs": [
    {
     "name": "stdout",
     "output_type": "stream",
     "text": [
      "Number of objects = 2        \n",
      "Learning rate = 0.001        \n",
      "Initial weights = [1.  0.5] \n",
      "\n",
      "Iteration left #1000: W_new = [2.08 4.27], MSE = 3047.75, change weight norm 3.6316\n",
      "Iteration left #900: W_new = [28.38281518  6.83710367], MSE = 177.43, change weight norm 0.1427\n",
      "Iteration left #800: W_new = [38.38986469  5.02247953], MSE = 65.33, change weight norm 0.0594\n",
      "Iteration left #700: W_new = [42.39314129  4.29654705], MSE = 47.39, change weight norm 0.024\n",
      "Iteration left #600: W_new = [43.99463466  4.00614091], MSE = 44.52, change weight norm 0.0096\n",
      "Iteration left #500: W_new = [44.63530512  3.8899652 ], MSE = 44.06, change weight norm 0.0039\n",
      "Iteration left #400: W_new = [44.89160255  3.84348962], MSE = 43.98, change weight norm 0.0015\n"
     ]
    }
   ],
   "source": [
    "n = X.shape[1]\n",
    "\n",
    "eta = 1e-3 \n",
    "n_iter = 1001\n",
    "epsilon_weight_dist = 0.001\n",
    "change_weight_dist = 1\n",
    "\n",
    "W = np.array([1, 0.5])\n",
    "print(f'Number of objects = {n} \\\n",
    "       \\nLearning rate = {eta} \\\n",
    "       \\nInitial weights = {W} \\n')\n",
    "\n",
    "while n_iter >= 0 and change_weight_dist > epsilon_weight_dist:\n",
    "    y_pred = np.dot(X, W)\n",
    "    err = calc_mse(y, y_pred)\n",
    "    old_weight_dist = np.linalg.norm(W, ord=2)\n",
    "    for k in range(W.shape[0]):\n",
    "        W[k] -= eta * (1/n * 2 * X[:, k] @ (y_pred - y))\n",
    "    W -= eta * (1/n * 2 * np.dot(X.T, y_pred - y))\n",
    "    change_weight_dist = abs(old_weight_dist - np.linalg.norm(W, ord=2))\n",
    "    n_iter -= 1\n",
    "    if n_iter % 100 == 0:\n",
    "        print(f'Iteration left #{n_iter}: W_new = {W}, MSE = {round(err,2)}, change weight norm {round(change_weight_dist, 4)}')\n",
    "\n"
   ]
  },
  {
   "cell_type": "code",
   "execution_count": null,
   "metadata": {},
   "outputs": [],
   "source": []
  }
 ],
 "metadata": {
  "colab": {
   "name": "Lesson_1.ipynb",
   "provenance": []
  },
  "kernelspec": {
   "display_name": "Python 3",
   "language": "python",
   "name": "python3"
  },
  "language_info": {
   "codemirror_mode": {
    "name": "ipython",
    "version": 3
   },
   "file_extension": ".py",
   "mimetype": "text/x-python",
   "name": "python",
   "nbconvert_exporter": "python",
   "pygments_lexer": "ipython3",
   "version": "3.7.3"
  }
 },
 "nbformat": 4,
 "nbformat_minor": 1
}
