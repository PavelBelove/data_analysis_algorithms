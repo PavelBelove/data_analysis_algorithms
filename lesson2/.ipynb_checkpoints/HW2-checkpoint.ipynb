{
 "cells": [
  {
   "cell_type": "markdown",
   "metadata": {},
   "source": [
    "## Домашнее задание <a class='anchor' id='hw'>"
   ]
  },
  {
   "cell_type": "code",
   "execution_count": 73,
   "metadata": {},
   "outputs": [],
   "source": [
    "import numpy as np\n",
    "import matplotlib.pyplot as plt\n",
    "\n",
    "from sklearn import datasets\n",
    "\n",
    "import warnings\n",
    "warnings.filterwarnings('ignore')"
   ]
  },
  {
   "cell_type": "code",
   "execution_count": 74,
   "metadata": {},
   "outputs": [],
   "source": [
    "def calc_mse(y, y_pred):\n",
    "    err = np.mean((y - y_pred)**2)\n",
    "    return err"
   ]
  },
  {
   "cell_type": "code",
   "execution_count": 75,
   "metadata": {},
   "outputs": [],
   "source": [
    "X = np.array([[   1,    1,  500,    1],\n",
    "              [   1,    1,  700,    1],\n",
    "              [   1,    2,  750,    2],\n",
    "              [   1,    5,  600,    1],\n",
    "              [   1,    3, 1450,    2],\n",
    "              [   1,    0,  800,    1],\n",
    "              [   1,    5, 1500,    3],\n",
    "              [   1,   10, 2000,    3],\n",
    "              [   1,    1,  450,    1],\n",
    "              [   1,    2, 1000,    2]])\n",
    "\n",
    "y = [45, 55, 50, 55, 60, 35, 75, 80, 50, 60]"
   ]
  },
  {
   "cell_type": "code",
   "execution_count": 76,
   "metadata": {},
   "outputs": [],
   "source": [
    "def standart_scale(X):\n",
    "    mean = X.mean()\n",
    "    std = X.std()\n",
    "    return (X - mean) / std"
   ]
  },
  {
   "cell_type": "code",
   "execution_count": 77,
   "metadata": {},
   "outputs": [
    {
     "data": {
      "text/plain": [
       "array([[ 1.        , -0.70710678, -0.97958969,  1.        ],\n",
       "       [ 1.        , -0.70710678, -0.56713087,  1.        ],\n",
       "       [ 1.        , -0.35355339, -0.46401617,  2.        ],\n",
       "       [ 1.        ,  0.70710678, -0.77336028,  1.        ],\n",
       "       [ 1.        ,  0.        ,  0.97958969,  2.        ],\n",
       "       [ 1.        , -1.06066017, -0.36090146,  1.        ],\n",
       "       [ 1.        ,  0.70710678,  1.08270439,  3.        ],\n",
       "       [ 1.        ,  2.47487373,  2.11385144,  3.        ],\n",
       "       [ 1.        , -0.70710678, -1.08270439,  1.        ],\n",
       "       [ 1.        , -0.35355339,  0.05155735,  2.        ]])"
      ]
     },
     "execution_count": 77,
     "metadata": {},
     "output_type": "execute_result"
    }
   ],
   "source": [
    "X_st = X.copy().astype(np.float64)\n",
    "X_st[:, 1] = standart_scale(X_st[:, 1])\n",
    "X_st[:, 2] = standart_scale(X_st[:, 2])\n",
    "X_st"
   ]
  },
  {
   "cell_type": "markdown",
   "metadata": {},
   "source": [
    "1. Постройте график зависимости весов всех признаков от lambda в самописной L2-регуляризации (на данных про ЕГЭ). Сделайте вывод"
   ]
  },
  {
   "cell_type": "code",
   "execution_count": 78,
   "metadata": {},
   "outputs": [],
   "source": [
    "def gradient_descent_reg_l2(X, y, iterations, eta=1e-2, reg=1e-4):\n",
    "    W = np.random.randn(X.shape[1])\n",
    "    n = X.shape[0]\n",
    "    \n",
    "    for i in range(0, iterations):\n",
    "        y_pred = np.dot(X, W)\n",
    "        err = calc_mse(y, y_pred)\n",
    "        \n",
    "        dQ = 2/n * X.T @ (y_pred - y) # градиент функции ошибки\n",
    "        dReg = reg * W # градиент регуляризации\n",
    "        \n",
    "        W -= eta * dQ + dReg\n",
    "# Закомментируем принты, чтобы в цикле не получить простыню промежуточных весов       \n",
    "#         if i % (iterations / 10) == 0:\n",
    "#             print(f'Iter: {i}, weights: {W}, error {err}')\n",
    "    \n",
    "    print(f'lambda: {reg} Final MSE: {calc_mse(y, np.dot(X, W))}')\n",
    "    return W"
   ]
  },
  {
   "cell_type": "code",
   "execution_count": 79,
   "metadata": {},
   "outputs": [
    {
     "name": "stdout",
     "output_type": "stream",
     "text": [
      "lambda: 1e-10 Final MSE: 25.001116646353115\n",
      "lambda: 1.5264179671752366e-10 Final MSE: 24.999230902895615\n",
      "lambda: 2.329951810515372e-10 Final MSE: 24.998687287837495\n",
      "lambda: 3.556480306223136e-10 Final MSE: 24.996949457418555\n",
      "lambda: 5.428675439323859e-10 Final MSE: 25.003816385351676\n",
      "lambda: 8.28642772854686e-10 Final MSE: 25.013850604812994\n",
      "lambda: 1.2648552168552958e-09 Final MSE: 25.00813759248161\n",
      "lambda: 1.9306977288832536e-09 Final MSE: 24.993981205781523\n",
      "lambda: 2.94705170255181e-09 Final MSE: 24.998316785475016\n",
      "lambda: 4.498432668969453e-09 Final MSE: 24.999442508821087\n",
      "lambda: 6.866488450042998e-09 Final MSE: 24.994703870456615\n",
      "lambda: 1.0481131341546874e-08 Final MSE: 24.992080331167333\n",
      "lambda: 1.5998587196060573e-08 Final MSE: 24.997866660741913\n",
      "lambda: 2.4420530945486548e-08 Final MSE: 24.97904098502708\n",
      "lambda: 3.7275937203149377e-08 Final MSE: 25.000610526045083\n",
      "lambda: 5.689866029018305e-08 Final MSE: 25.000080123069132\n",
      "lambda: 8.68511373751352e-08 Final MSE: 24.997537242242476\n",
      "lambda: 1.3257113655901109e-07 Final MSE: 24.996148109281744\n",
      "lambda: 2.0235896477251556e-07 Final MSE: 25.004096773162296\n",
      "lambda: 3.0888435964774847e-07 Final MSE: 25.001968865323704\n",
      "lambda: 4.7148663634573897e-07 Final MSE: 25.00169503172426\n",
      "lambda: 7.196856730011529e-07 Final MSE: 24.994981572788568\n",
      "lambda: 1.0985411419875595e-06 Final MSE: 25.00910578250809\n",
      "lambda: 1.67683293681101e-06 Final MSE: 25.007803584865236\n",
      "lambda: 2.5595479226995385e-06 Final MSE: 25.009539993009163\n",
      "lambda: 3.906939937054621e-06 Final MSE: 25.004489732747217\n",
      "lambda: 5.963623316594649e-06 Final MSE: 25.01970130835236\n",
      "lambda: 9.102981779915228e-06 Final MSE: 25.036472695537206\n",
      "lambda: 1.3894954943731388e-05 Final MSE: 25.074573913905144\n",
      "lambda: 2.1209508879201926e-05 Final MSE: 25.116363924514022\n",
      "lambda: 3.237457542817647e-05 Final MSE: 25.183467675461486\n",
      "lambda: 4.9417133613238384e-05 Final MSE: 25.32196645111867\n",
      "lambda: 7.543120063354622e-05 Final MSE: 25.570424967357525\n",
      "lambda: 0.00011513953993264481 Final MSE: 25.967009691937346\n",
      "lambda: 0.0001757510624854793 Final MSE: 26.71550631265244\n",
      "lambda: 0.0002682695795279727 Final MSE: 27.98704249165265\n",
      "lambda: 0.00040949150623804275 Final MSE: 30.008507268890167\n",
      "lambda: 0.0006250551925273976 Final MSE: 32.96227202951612\n",
      "lambda: 0.0009540954763499944 Final MSE: 36.89075437547671\n",
      "lambda: 0.0014563484775012444 Final MSE: 41.8384727931682\n",
      "lambda: 0.0022229964825261957 Final MSE: 48.115617945652986\n",
      "lambda: 0.00339322177189533 Final MSE: 56.62962441175093\n",
      "lambda: 0.005179474679231213 Final MSE: 69.29165853421415\n",
      "lambda: 0.0079060432109077 Final MSE: 89.79140121375815\n",
      "lambda: 0.012067926406393313 Final MSE: 124.95977798581696\n",
      "lambda: 0.018420699693267165 Final MSE: 186.42738612332298\n",
      "lambda: 0.028117686979742366 Final MSE: 291.36573955513774\n",
      "lambda: 0.04291934260128778 Final MSE: 460.1250617234451\n",
      "lambda: 0.06551285568595522 Final MSE: 708.6757255864601\n",
      "lambda: 0.1 Final MSE: 1037.1616579116062\n"
     ]
    }
   ],
   "source": [
    "# Создадим массив лямбда\n",
    "\n",
    "n = 50\n",
    "lambda_list = np.logspace(-10, -1, n)\n",
    "\n",
    "# Пройдемся циклом вызывая gradient_descent_reg_l2 с разными lambda, сохраним веса в список\n",
    "\n",
    "w_list = []\n",
    "\n",
    "for i, val in enumerate(lambda_list):\n",
    "    W = gradient_descent_reg_l2(X_st, y, iterations=5000, eta=1e-2, reg=val)\n",
    "    w_list.append(W) "
   ]
  },
  {
   "cell_type": "code",
   "execution_count": 80,
   "metadata": {},
   "outputs": [],
   "source": [
    "# w_list"
   ]
  },
  {
   "cell_type": "code",
   "execution_count": 81,
   "metadata": {},
   "outputs": [
    {
     "data": {
      "image/png": "[encoded data removed]",
      "text/plain": [
       "<Figure size 432x288 with 1 Axes>"
      ]
     },
     "metadata": {
      "needs_background": "light"
     },
     "output_type": "display_data"
    }
   ],
   "source": [
    "plt.plot(lambda_list, w_list)\n",
    "\n",
    "plt.title('Убывание абсолютных значений весов признаков\\n при увеличении коэффициента регуляризации lambda')\n",
    "plt.xlabel('lambda')\n",
    "plt.ylabel('Вес признака');"
   ]
  },
  {
   "cell_type": "markdown",
   "metadata": {},
   "source": [
    "При малых лямбда получаем большие веса, при увеличении они стремятся к нулю. При наличии большего датасета можно бы было говорить об оптимальных параметрах, на наших же данных MSE в значительных пределах случайна, и меняется около 25 при лямбда меньше 0.0001. "
   ]
  },
  {
   "cell_type": "markdown",
   "metadata": {},
   "source": [
    "2. Напишите функцию наподобие gradient_descent_reg_l2, но для применения L1-регуляризации."
   ]
  },
  {
   "cell_type": "code",
   "execution_count": 15,
   "metadata": {},
   "outputs": [],
   "source": [
    "def gradient_descent_reg_l1(X, y, iterations, eta=1e-2, reg=1e-4, print_values=True):\n",
    "    W = np.random.randn(X.shape[1])\n",
    "    n = X.shape[0]\n",
    "    \n",
    "    for i in range(0, iterations):\n",
    "        y_pred = np.dot(X, W)\n",
    "        err = calc_mse(y, y_pred)\n",
    "        \n",
    "        dQ = 2/n * X.T @ (y_pred - y) # градиент функции ошибки\n",
    "#         dReg = reg * W/np.abs(W) # градиент регуляризации\n",
    "        dReg = reg * np.sign(W)\n",
    "        \n",
    "        W -= eta * dQ + dReg\n",
    "      \n",
    "        if i % (iterations / 10) == 0 and print_values:\n",
    "            print(f'Iter: {i}, weights: {W}, Reg: {reg} error {err}')\n",
    "    \n",
    "    print(f'lambda: {reg} Final MSE: {calc_mse(y, np.dot(X, W))}')\n",
    "    return W"
   ]
  },
  {
   "cell_type": "code",
   "execution_count": 16,
   "metadata": {},
   "outputs": [
    {
     "name": "stdout",
     "output_type": "stream",
     "text": [
      "Iter: 0, weights: [ 3.61087836 -0.20117557  0.48774496  1.23593877], Reg: 0.0001 error 3248.2952357420463\n",
      "Iter: 500, weights: [24.58765787  5.20574145 -6.48044723 18.44773215], Reg: 0.0001 error 37.88726061887\n",
      "Iter: 1000, weights: [29.06752044  6.08408836 -5.52819949 15.91404742], Reg: 0.0001 error 32.086047683232444\n",
      "Iter: 1500, weights: [32.29610523  6.19652851 -4.3152146  14.07106813], Reg: 0.0001 error 28.99847853527939\n",
      "Iter: 2000, weights: [34.71825363  6.22366948 -3.34732099 12.68656206], Reg: 0.0001 error 27.240334924911735\n",
      "Iter: 2500, weights: [36.54587634  6.23810802 -2.61088883 11.64169131], Reg: 0.0001 error 26.237458654970577\n",
      "Iter: 3000, weights: [37.92600833  6.2483772  -2.05412941 10.85263492], Reg: 0.0001 error 25.665317644432882\n",
      "Iter: 3500, weights: [38.9683332   6.25606635 -1.63357757 10.25670925], Reg: 0.0001 error 25.338886546001454\n",
      "Iter: 4000, weights: [39.75554625  6.26186657 -1.31594986  9.80663776], Reg: 0.0001 error 25.1526279209309\n",
      "Iter: 4500, weights: [40.35008808  6.26624646 -1.07606113  9.46672172], Reg: 0.0001 error 25.046338944109824\n",
      "lambda: 0.0001 Final MSE: 24.985676211648066\n"
     ]
    }
   ],
   "source": [
    "W = gradient_descent_reg_l1(X_st, y, iterations=5000, eta=1e-2, reg=1e-4)"
   ]
  },
  {
   "cell_type": "code",
   "execution_count": 17,
   "metadata": {},
   "outputs": [
    {
     "name": "stdout",
     "output_type": "stream",
     "text": [
      "lambda: 0.0001 Final MSE: 25.009320764760883\n",
      "lambda: 0.00011513953993264469 Final MSE: 24.994210990838873\n",
      "lambda: 0.00013257113655901095 Final MSE: 24.989988890712414\n",
      "lambda: 0.00015264179671752333 Final MSE: 24.99434770119186\n",
      "lambda: 0.00017575106248547912 Final MSE: 25.00714322262859\n",
      "lambda: 0.00020235896477251576 Final MSE: 25.001234837185528\n",
      "lambda: 0.00023299518105153718 Final MSE: 25.00775831835099\n",
      "lambda: 0.00026826957952797245 Final MSE: 25.005093272115776\n",
      "lambda: 0.00030888435964774815 Final MSE: 25.009436880195818\n",
      "lambda: 0.00035564803062231287 Final MSE: 25.00155423862996\n",
      "lambda: 0.00040949150623804275 Final MSE: 25.010854319250228\n",
      "lambda: 0.00047148663634573947 Final MSE: 25.01046767887393\n",
      "lambda: 0.0005428675439323859 Final MSE: 25.017448061518756\n",
      "lambda: 0.0006250551925273976 Final MSE: 25.00287751026594\n",
      "lambda: 0.0007196856730011522 Final MSE: 25.0223036732405\n",
      "lambda: 0.0008286427728546842 Final MSE: 25.017799693090588\n",
      "lambda: 0.0009540954763499944 Final MSE: 25.040023252912977\n",
      "lambda: 0.0010985411419875584 Final MSE: 25.032147437382747\n",
      "lambda: 0.0012648552168552957 Final MSE: 25.05907497360231\n",
      "lambda: 0.0014563484775012444 Final MSE: 25.05423642865308\n",
      "lambda: 0.0016768329368110084 Final MSE: 25.076921841309975\n",
      "lambda: 0.0019306977288832496 Final MSE: 25.09757103353015\n",
      "lambda: 0.0022229964825261957 Final MSE: 25.143036503155905\n",
      "lambda: 0.002559547922699536 Final MSE: 25.18374869615225\n",
      "lambda: 0.0029470517025518097 Final MSE: 25.233318900520725\n",
      "lambda: 0.00339322177189533 Final MSE: 25.31222025669389\n",
      "lambda: 0.003906939937054617 Final MSE: 25.40999851679838\n",
      "lambda: 0.004498432668969444 Final MSE: 25.545102777774883\n",
      "lambda: 0.005179474679231213 Final MSE: 25.690302468342832\n",
      "lambda: 0.005963623316594642 Final MSE: 25.769992598691267\n",
      "lambda: 0.006866488450042998 Final MSE: 25.9775524015835\n",
      "lambda: 0.0079060432109077 Final MSE: 26.273308081024556\n",
      "lambda: 0.009102981779915217 Final MSE: 26.60834241694021\n",
      "lambda: 0.010481131341546853 Final MSE: 27.10423117786299\n",
      "lambda: 0.012067926406393288 Final MSE: 27.773765454458886\n",
      "lambda: 0.013894954943731374 Final MSE: 28.653018636236652\n",
      "lambda: 0.015998587196060572 Final MSE: 29.834645866263656\n",
      "lambda: 0.018420699693267165 Final MSE: 31.386019087313617\n",
      "lambda: 0.021209508879201904 Final MSE: 33.47151363240558\n",
      "lambda: 0.024420530945486497 Final MSE: 36.21471083807104\n",
      "lambda: 0.028117686979742307 Final MSE: 39.867682838902844\n",
      "lambda: 0.032374575428176434 Final MSE: 44.6839657564578\n",
      "lambda: 0.03727593720314938 Final MSE: 49.33611615887834\n",
      "lambda: 0.04291934260128778 Final MSE: 51.39078836576207\n",
      "lambda: 0.04941713361323833 Final MSE: 54.094033488626664\n",
      "lambda: 0.05689866029018293 Final MSE: 57.48020324908207\n",
      "lambda: 0.0655128556859551 Final MSE: 62.41685353152942\n",
      "lambda: 0.07543120063354615 Final MSE: 68.88822638457683\n",
      "lambda: 0.08685113737513521 Final MSE: 76.83346975946748\n",
      "lambda: 0.1 Final MSE: 87.88855679014549\n"
     ]
    }
   ],
   "source": [
    "# Создадим массив лямбда\n",
    "\n",
    "n = 50\n",
    "lambda_list = np.logspace(-4, -1, n)\n",
    "\n",
    "# Пройдемся циклом вызывая gradient_descent_reg_l2 с разными lambda, сохраним веса в список\n",
    "\n",
    "w_list = []\n",
    "\n",
    "for i, val in enumerate(lambda_list):\n",
    "    W = gradient_descent_reg_l1(X_st, y, iterations=5000, eta=1e-2, reg=val, print_values=False)\n",
    "    w_list.append(W) "
   ]
  },
  {
   "cell_type": "code",
   "execution_count": 18,
   "metadata": {},
   "outputs": [
    {
     "data": {
      "image/png": "[encoded data removed]",
      "text/plain": [
       "<Figure size 432x288 with 1 Axes>"
      ]
     },
     "metadata": {
      "needs_background": "light"
     },
     "output_type": "display_data"
    }
   ],
   "source": [
    "plt.plot(lambda_list, w_list)\n",
    "\n",
    "plt.title('Убывание абсолютных значений весов признаков\\n при увеличении коэффициента регуляризации lambda')\n",
    "plt.xlabel('lambda')\n",
    "plt.ylabel('Вес признака');"
   ]
  },
  {
   "cell_type": "markdown",
   "metadata": {},
   "source": [
    "Получили ломанные графики, причем когда один зануляется, оставшиеся меняют наклон."
   ]
  },
  {
   "cell_type": "markdown",
   "metadata": {},
   "source": [
    "3. *Можно ли к одному и тому же признаку применить сразу и нормализацию, и стандартизацию?"
   ]
  },
  {
   "cell_type": "markdown",
   "metadata": {},
   "source": [
    "Применить-то, конечно, можно (ошибки не выдаст), но смысла в этом столько же, сколько и написать x = 1, и следующей строкой x = 2. Второе действие попросту переопределит первое. В таком порядке как написано в вопросе, получим просто стандартизированные данные.\n",
    "\n",
    "Но, возможно, такие действия будут иметь смысл, если мы между регуляризацией и стандартизацией производим еще какие-то манипуляции с данными. Например, стандартизируем датасет, находим и удаляем значения с модулем больше какого-то порогового значения (считаем их выбросами), а потом нормализируем. Можно, конечно, это и на \"сырых\" данных проделать, так что пример такой себе."
   ]
  },
  {
   "cell_type": "markdown",
   "metadata": {},
   "source": [
    "4. *Сгенерируйте датасет при помощи sklearn.datasets.make_regression и обучите линейную модель при помощи градиентного и стохастического градиентного спуска. Нанесите среднеквадратичную ошибку для обоих методов на один график, сделайте выводы о разнице скорости сходимости каждого из методов."
   ]
  },
  {
   "cell_type": "code",
   "execution_count": 35,
   "metadata": {},
   "outputs": [],
   "source": [
    "def mserror(X, w, y_pred):\n",
    "    y = X.dot(w)\n",
    "    return (sum((y - y_pred)**2)) / len(y)"
   ]
  },
  {
   "cell_type": "code",
   "execution_count": 84,
   "metadata": {},
   "outputs": [
    {
     "data": {
      "text/plain": [
       "array([[-1.38108668, -1.06601598,  0.04135458,  0.51006682,  1.63784196],\n",
       "       [ 0.34772734, -0.54760585, -1.14789505,  1.06579866, -0.09737866],\n",
       "       [ 0.69526476, -0.64624744,  0.58564752,  0.57236281,  1.13361232],\n",
       "       ...,\n",
       "       [-0.75184874, -1.11391119, -1.11164767,  0.37462495,  1.13301649],\n",
       "       [ 0.32963392,  1.0000923 , -0.26239839, -0.12612704, -1.56400306],\n",
       "       [ 0.08115296, -0.13208564,  2.14037977,  0.25174099,  0.75492407]])"
      ]
     },
     "metadata": {},
     "output_type": "display_data"
    },
    {
     "data": {
      "text/plain": [
       "array([-38.86976066,  74.60889109, 128.407604  , ..., -41.494446  ,\n",
       "       -19.14944612,  74.4562607 ])"
      ]
     },
     "metadata": {},
     "output_type": "display_data"
    },
    {
     "data": {
      "text/plain": [
       "array([76.59662737, 79.01470469,  0.        , 93.18614303, 64.21566818])"
      ]
     },
     "metadata": {},
     "output_type": "display_data"
    }
   ],
   "source": [
    "# сгенерируем набор данных\n",
    "X, Y, coef = datasets.make_regression(n_samples=10000, n_features=5, n_informative=4, n_targets=1, \n",
    "                                      noise=5, coef=True, random_state=2)\n",
    "display(X, Y, coef)"
   ]
  },
  {
   "cell_type": "code",
   "execution_count": 85,
   "metadata": {},
   "outputs": [],
   "source": [
    "# Зададим параметры:\n",
    "# скорость обучения\n",
    "eta = 0.01\n",
    "\n",
    "# максимальное число итераций\n",
    "max_iter = 1000\n",
    "\n",
    "# критерий сходимости (разница весов, при которой алгоритм останавливается)\n",
    "min_weight_dist = 1e-3"
   ]
  },
  {
   "cell_type": "code",
   "execution_count": 86,
   "metadata": {},
   "outputs": [
    {
     "name": "stdout",
     "output_type": "stream",
     "text": [
      "Iteration #0: W_new = [1.5353634  1.58017158 0.02153734 1.83825717 1.24936422], MSE = 23748.19\n",
      "Iteration #100: W_new = [66.66829823 68.70647899  0.2804826  80.73673438 55.38062606], MSE = 457.22\n",
      "Iteration #200: W_new = [7.52588749e+01 7.76035415e+01 5.82312279e-02 9.14984812e+01\n",
      " 6.29634625e+01], MSE = 32.84\n",
      "Iteration #300: W_new = [ 7.63917391e+01  7.87845603e+01 -6.64816932e-03  9.29662722e+01\n",
      "  6.40250642e+01], MSE = 25.08\n",
      "Iteration #400: W_new = [ 7.65411060e+01  7.89415728e+01 -2.01379861e-02  9.31664528e+01\n",
      "  6.41736123e+01], MSE = 24.94\n",
      "Iter 404: error - 24.94005692060747, weights: [ 7.65424437e+01  7.89429881e+01 -2.02897701e-02  9.31682869e+01\n",
      "  6.41749966e+01]\n",
      "Среднеквадратичная ошибка 24.9401\n",
      "CPU times: user 1.58 s, sys: 5.48 ms, total: 1.58 s\n",
      "Wall time: 793 ms\n"
     ]
    }
   ],
   "source": [
    "%%time\n",
    "# инициализируем начальный вектор весов\n",
    "w = np.zeros(X.shape[1]) \n",
    "\n",
    "# список векторов весов после каждой итерации\n",
    "w_list = [w.copy()]\n",
    "\n",
    "# список значений ошибок после каждой итерации\n",
    "errors = []\n",
    "\n",
    "# список произведенных операций\n",
    "iter_nums = []\n",
    "\n",
    "# зададим начальную разницу весов большим числом\n",
    "weight_dist = np.inf\n",
    "\n",
    "# счетчик итераций\n",
    "iter_num = 0\n",
    "\n",
    "# ход градиентного спуска\n",
    "while weight_dist > min_weight_dist and iter_num < max_iter:\n",
    "    y_pred = np.dot(X, w)\n",
    "    new_w = w - eta * (2 / Y.shape[0] * np.dot(X.T, y_pred - Y))\n",
    "    weight_dist = np.linalg.norm(new_w - w, ord=2)\n",
    "    error = mserror(X, new_w, Y)\n",
    "    \n",
    "    w_list.append(new_w.copy())\n",
    "    errors.append(error.copy())\n",
    "    iter_nums.append(iter_num)\n",
    "    \n",
    "    if iter_num % 100 == 0:\n",
    "        print(f'Iteration #{iter_num}: W_new = {new_w}, MSE = {round(error, 2)}')\n",
    "    \n",
    "    iter_num += 1\n",
    "    w = new_w\n",
    "    \n",
    "w_list = np.array(w_list)\n",
    "errors = np.array(errors)\n",
    "# iter_nums = np.array(iter_nums)\n",
    "\n",
    "print(f'Iter {iter_num}: error - {error}, weights: {new_w}')\n",
    "print(f'Среднеквадратичная ошибка {round(errors[-1], 4)}')"
   ]
  },
  {
   "cell_type": "code",
   "execution_count": 87,
   "metadata": {},
   "outputs": [
    {
     "name": "stdout",
     "output_type": "stream",
     "text": [
      "Iteration #0: W_new = [-0.33764952  2.18062248 -4.11662917  0.73216824  4.24105992], MSE = 23809.21\n",
      "Iteration #100: W_new = [66.47652167 65.10991669 -4.66252772 69.24197217 55.16897285], MSE = 990.24\n",
      "Iteration #200: W_new = [75.09268404 76.54463689 -0.61767357 90.5236208  62.28029841], MSE = 44.01\n",
      "Iteration #300: W_new = [76.97756252 78.19368209 -1.03476904 92.86203106 64.50021547], MSE = 26.97\n",
      "Iteration #400: W_new = [75.45819373 78.49883615 -1.09619071 92.82687016 63.89943775], MSE = 27.76\n",
      "Iteration #500: W_new = [75.26122446 78.72646717  0.40889072 93.80672065 63.84712608], MSE = 27.42\n",
      "Iter 505: error - 27.06327280935764, weights: [75.32957503 78.62645367  0.34166281 93.74122959 64.06868081]\n",
      "Среднеквадратичная ошибка 27.0633\n",
      "CPU times: user 1.74 s, sys: 17.2 ms, total: 1.76 s\n",
      "Wall time: 877 ms\n"
     ]
    }
   ],
   "source": [
    "%%time\n",
    "# Стахостический градиентный спуск\n",
    "\n",
    "# инициализируем начальный вектор весов\n",
    "w_s = np.zeros(X.shape[1])\n",
    "\n",
    "# список векторов весов после каждой итерации\n",
    "w_list_s = [w_s.copy()]\n",
    "\n",
    "# список значений ошибок после каждой итерации\n",
    "errors_s = []\n",
    "\n",
    "# список произведенных операций\n",
    "iter_nums_s = []\n",
    "\n",
    "# зададим начальную разницу весов большим числом\n",
    "weight_dist_s = np.inf\n",
    "\n",
    "# счетчик итераций\n",
    "iter_num_s = 0\n",
    "\n",
    "np.random.seed(1)\n",
    "\n",
    "# ход градиентного спуска\n",
    "while weight_dist_s > min_weight_dist and iter_num_s < max_iter:\n",
    "    \n",
    "    # генерируем случайный индекс объекта выборки\n",
    "    train_ind = np.random.randint(X.shape[0], size=1)\n",
    "    \n",
    "    y_pred_s = np.dot(X[train_ind], w_s)\n",
    "    new_w_s = w_s - eta * 2 / Y[train_ind].shape[0] * np.dot(X[train_ind].T, y_pred_s - Y[train_ind])\n",
    "\n",
    "    weight_dist_s = np.linalg.norm(new_w_s - w_s, ord=2)\n",
    "\n",
    "    error_s = mserror(X, new_w_s, Y)\n",
    "    \n",
    "    w_list_s.append(new_w_s.copy())\n",
    "    errors_s.append(error_s.copy())\n",
    "    iter_nums_s.append(iter_num_s)\n",
    "    \n",
    "    if iter_num_s % 100 == 0:\n",
    "        print(f'Iteration #{iter_num_s}: W_new = {new_w_s}, MSE = {round(error_s, 2)}')\n",
    "\n",
    "    iter_num_s += 1\n",
    "    w_s = new_w_s\n",
    "    \n",
    "w_list_s = np.array(w_list_s)\n",
    "errors_s = np.array(errors_s)\n",
    "iter_nums_s = np.array(iter_nums_s)\n",
    "\n",
    "print(f'Iter {iter_num_s}: error - {error_s}, weights: {new_w_s}')\n",
    "print(f'Среднеквадратичная ошибка {round(errors_s[-1], 4)}')"
   ]
  },
  {
   "cell_type": "code",
   "execution_count": 88,
   "metadata": {},
   "outputs": [
    {
     "data": {
      "image/png": "[encoded data removed]",
      "text/plain": [
       "<Figure size 936x432 with 1 Axes>"
      ]
     },
     "metadata": {
      "needs_background": "light"
     },
     "output_type": "display_data"
    }
   ],
   "source": [
    "# Визуализируем изменение весов \n",
    "plt.figure(figsize=(13, 6))\n",
    "plt.title('Gradient descent & Stochastic gradient descent')\n",
    "plt.ylabel(r'errors')\n",
    "plt.xlabel(r'iteration')\n",
    "# plt.ylim(-1, 6)\n",
    "# plt.xlim(-10, 300)\n",
    "\n",
    "plt.scatter(iter_nums, standart_scale(errors))\n",
    "plt.plot(iter_nums, standart_scale(errors), label='GD')\n",
    "\n",
    "plt.scatter(iter_nums_s, standart_scale(errors_s), c='g')\n",
    "plt.plot(iter_nums_s, standart_scale(errors_s), c='g', label='SGD')\n",
    "\n",
    "plt.legend()\n",
    "plt.show()"
   ]
  },
  {
   "cell_type": "markdown",
   "metadata": {},
   "source": [
    "Потестировав раздичные сгенерированные датасеты и параметры, пришел к выводу, что стохастический градиентный спуск в целом, работает быстрее (меньше вычислений), но в значительной степени зависит от случайностей и в целом более \"капризен\". Так, на графиках выше, он сошелся быстрее, но по итогу алгоритм имеет большую MSE, а так же видно, что общий наклон кривой у градиентного спуска круче, стохастический же сходится во многом за счет удачных \"скачков\" весов, вроде того, что в районе 50-й итеррации на графике.\n",
    "Это не всегда плохо, если функция сложная и имеет несколько миимумов, мы можем получить по разному обученные модели, несколько раз запустив алгоритм. Но для сгенерированного датасета классический градиентный спуск выглядит гораздо надежнее и предсказуемее, и при прочих равных, я бы предпочел использовать его."
   ]
  },
  {
   "cell_type": "code",
   "execution_count": null,
   "metadata": {},
   "outputs": [],
   "source": []
  }
 ],
 "metadata": {
  "colab": {
   "collapsed_sections": [
    "Ws1-N-_Qiqus",
    "Lq5zA2Itiqu3"
   ],
   "name": "Lesson_2.ipynb",
   "provenance": []
  },
  "kernelspec": {
   "display_name": "Python 3",
   "language": "python",
   "name": "python3"
  },
  "language_info": {
   "codemirror_mode": {
    "name": "ipython",
    "version": 3
   },
   "file_extension": ".py",
   "mimetype": "text/x-python",
   "name": "python",
   "nbconvert_exporter": "python",
   "pygments_lexer": "ipython3",
   "version": "3.7.3"
  }
 },
 "nbformat": 4,
 "nbformat_minor": 1
}
