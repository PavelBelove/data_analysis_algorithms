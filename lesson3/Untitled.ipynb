{
 "cells": [
  {
   "cell_type": "code",
   "execution_count": 3,
   "metadata": {},
   "outputs": [],
   "source": [
    "import numpy as np\n",
    "import matplotlib.pyplot as plt"
   ]
  },
  {
   "cell_type": "code",
   "execution_count": 45,
   "metadata": {},
   "outputs": [
    {
     "name": "stdout",
     "output_type": "stream",
     "text": [
      "[1. 0.]\n",
      "[9.9999e-01 1.0000e-05]\n"
     ]
    },
    {
     "data": {
      "text/plain": [
       "1.0000050000287824e-05"
      ]
     },
     "execution_count": 45,
     "metadata": {},
     "output_type": "execute_result"
    }
   ],
   "source": [
    "def calc_logloss(y, y_pred):\n",
    "    y_pred = y_pred.astype(np.float64)\n",
    "#     print(y_pred)\n",
    "    y_pred[y_pred==1] = 1 - 1e-5\n",
    "    y_pred[y_pred<=1e-10] = 1e-5\n",
    "#     print(y_pred)\n",
    "    err = - np.mean(y * np.log(y_pred) + (1.0 - y) * np.log(1.0 - y_pred))\n",
    "    return err\n",
    "\n",
    "# Пример применения\n",
    "y1 = np.array([1, 0])\n",
    "y_pred1 = np.array([1, 0])\n",
    "calc_logloss(y1, y_pred1)"
   ]
  },
  {
   "cell_type": "code",
   "execution_count": 53,
   "metadata": {},
   "outputs": [
    {
     "data": {
      "text/plain": [
       "array([1.00000000e-04, 1.20679264e-04, 1.45634848e-04, 1.75751062e-04,\n",
       "       2.12095089e-04, 2.55954792e-04, 3.08884360e-04, 3.72759372e-04,\n",
       "       4.49843267e-04, 5.42867544e-04, 6.55128557e-04, 7.90604321e-04,\n",
       "       9.54095476e-04, 1.15139540e-03, 1.38949549e-03, 1.67683294e-03,\n",
       "       2.02358965e-03, 2.44205309e-03, 2.94705170e-03, 3.55648031e-03,\n",
       "       4.29193426e-03, 5.17947468e-03, 6.25055193e-03, 7.54312006e-03,\n",
       "       9.10298178e-03, 1.09854114e-02, 1.32571137e-02, 1.59985872e-02,\n",
       "       1.93069773e-02, 2.32995181e-02, 2.81176870e-02, 3.39322177e-02,\n",
       "       4.09491506e-02, 4.94171336e-02, 5.96362332e-02, 7.19685673e-02,\n",
       "       8.68511374e-02, 1.04811313e-01, 1.26485522e-01, 1.52641797e-01,\n",
       "       1.84206997e-01, 2.22299648e-01, 2.68269580e-01, 3.23745754e-01,\n",
       "       3.90693994e-01, 4.71486636e-01, 5.68986603e-01, 6.86648845e-01,\n",
       "       8.28642773e-01, 1.00000000e+00])"
      ]
     },
     "execution_count": 53,
     "metadata": {},
     "output_type": "execute_result"
    }
   ],
   "source": [
    "np.geomspace(0.0001, 1.0, num=50)"
   ]
  },
  {
   "cell_type": "code",
   "execution_count": null,
   "metadata": {},
   "outputs": [],
   "source": []
  }
 ],
 "metadata": {
  "kernelspec": {
   "display_name": "Python 3",
   "language": "python",
   "name": "python3"
  },
  "language_info": {
   "codemirror_mode": {
    "name": "ipython",
    "version": 3
   },
   "file_extension": ".py",
   "mimetype": "text/x-python",
   "name": "python",
   "nbconvert_exporter": "python",
   "pygments_lexer": "ipython3",
   "version": "3.7.3"
  }
 },
 "nbformat": 4,
 "nbformat_minor": 2
}
