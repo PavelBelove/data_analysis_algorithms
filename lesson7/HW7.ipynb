{
 "cells": [
  {
   "cell_type": "code",
   "execution_count": 4,
   "metadata": {},
   "outputs": [],
   "source": [
    "import numpy as np\n",
    "from sklearn import model_selection\n",
    "from sklearn.datasets import load_iris\n",
    "import matplotlib.pyplot as plt\n",
    "import matplotlib\n",
    "%matplotlib inline\n",
    "from matplotlib.colors import ListedColormap"
   ]
  },
  {
   "cell_type": "code",
   "execution_count": 5,
   "metadata": {},
   "outputs": [],
   "source": [
    "X, y = load_iris(return_X_y=True)\n",
    "\n",
    "# Для наглядности возьмем только первые два признака (всего в датасете их 4)\n",
    "X = X[:, :2]\n",
    "\n",
    "# Разбиение выборки\n",
    "X_train, X_test, y_train, y_test = model_selection.train_test_split(X, y, test_size=0.2, random_state=1)"
   ]
  },
  {
   "cell_type": "code",
   "execution_count": 6,
   "metadata": {},
   "outputs": [],
   "source": [
    "# Евклидова метрика\n",
    "def e_metrics(x1, x2):\n",
    "    \n",
    "    distance = 0\n",
    "    for i in range(len(x1)):\n",
    "        distance += np.square(x1[i] - x2[i])\n",
    "    \n",
    "    return np.sqrt(distance)\n",
    "\n",
    "# Точность\n",
    "def accuracy(pred, y):\n",
    "    return (sum(pred == y) / len(y))"
   ]
  },
  {
   "cell_type": "markdown",
   "metadata": {},
   "source": [
    "#### 3. *Оптимизировать код для KNN (оставить один цикл, либо обойтись без циклов вообще)."
   ]
  },
  {
   "cell_type": "markdown",
   "metadata": {},
   "source": [
    "Логично будет начать решение с оптимизации алгоритма. От внутреннего цикла можно избавиться с помощью функции map().\n",
    "Так же переименовал test_distanses так как название не отражает сути - по алгоритму там должны быть пары рассчетных значений и правильных ответов."
   ]
  },
  {
   "cell_type": "code",
   "execution_count": 38,
   "metadata": {},
   "outputs": [],
   "source": [
    "def knn(x_train, y_train, x_test, k):\n",
    "    \n",
    "    answers = []\n",
    "    for x in x_test:\n",
    "        distances = list(zip(map(lambda x_t: e_metrics(x, x_t), x_train), y_train))\n",
    "        \n",
    "        # создаем словарь со всеми возможными классами\n",
    "        classes = {class_item: 0 for class_item in set(y_train)}\n",
    "        \n",
    "        # Сортируем список и среди первых k элементов подсчитаем частоту появления разных классов\n",
    "        for d in sorted(distances)[0:k]:\n",
    "            classes[d[1]] += 1\n",
    "\n",
    "        # Записываем в список ответов наиболее часто встречающийся класс\n",
    "        answers.append(sorted(classes, key=classes.get)[-1])\n",
    "        \n",
    "    return answers"
   ]
  },
  {
   "cell_type": "markdown",
   "metadata": {},
   "source": [
    " #### 1. К алгоритму kNN, реализованному на уроке, реализовать добавление весов для соседей по любому из показанных на уроке принципов."
   ]
  },
  {
   "cell_type": "code",
   "execution_count": 39,
   "metadata": {},
   "outputs": [],
   "source": [
    "# Алгоритм KNN с добавлением весов 𝑤(𝑑)=𝑞**𝑑 ,  𝑞∈(0,1) ;\n",
    "def knn_wqd(x_train, y_train, x_test, k, q):\n",
    "    \n",
    "    answers = []\n",
    "    for x in x_test:\n",
    "        distances = list(zip(map(lambda x_t: e_metrics(x, x_t), x_train), y_train))\n",
    "        \n",
    "        # создаем словарь со всеми возможными классами\n",
    "        classes = {class_item: 0 for class_item in set(y_train)}\n",
    "        \n",
    "        # Сортируем список и среди первых k элементов подсчитаем частоту появления разных классов\n",
    "        for d in sorted(distances)[0:k]:\n",
    "            wqd = q**d[0]\n",
    "            classes[d[1]] += wqd\n",
    "            \n",
    "        # Записываем в список ответов класс с наибольшим весом\n",
    "        answers.append(sorted(classes, key=classes.get)[-1])\n",
    "    return answers"
   ]
  },
  {
   "cell_type": "code",
   "execution_count": 40,
   "metadata": {},
   "outputs": [
    {
     "name": "stdout",
     "output_type": "stream",
     "text": [
      "Точность алгоритма при k = 1, q = 0.1: 0.667\n"
     ]
    }
   ],
   "source": [
    "k, q = 1, 0.1\n",
    "y_pred = knn_wqd(X_train, y_train, X_test, k, q)\n",
    "print(f'Точность алгоритма при k = {k}, q = {q}: {accuracy(y_pred, y_test):.3f}')"
   ]
  },
  {
   "cell_type": "code",
   "execution_count": 41,
   "metadata": {},
   "outputs": [
    {
     "name": "stdout",
     "output_type": "stream",
     "text": [
      "Точность алгоритма при k = 1, q = 0.9: 0.667\n"
     ]
    }
   ],
   "source": [
    "k, q = 1, 0.9\n",
    "y_pred = knn_wqd(X_train, y_train, X_test, k, q)\n",
    "print(f'Точность алгоритма при k = {k}, q = {q}: {accuracy(y_pred, y_test):.3f}')"
   ]
  },
  {
   "cell_type": "code",
   "execution_count": 42,
   "metadata": {},
   "outputs": [
    {
     "name": "stdout",
     "output_type": "stream",
     "text": [
      "Точность алгоритма при k = 3, q = 0.1: 0.733\n"
     ]
    }
   ],
   "source": [
    "k, q = 3, 0.1\n",
    "y_pred = knn_wqd(X_train, y_train, X_test, k, q)\n",
    "print(f'Точность алгоритма при k = {k}, q = {q}: {accuracy(y_pred, y_test):.3f}')"
   ]
  },
  {
   "cell_type": "code",
   "execution_count": 43,
   "metadata": {},
   "outputs": [
    {
     "name": "stdout",
     "output_type": "stream",
     "text": [
      "Точность алгоритма при k = 3, q = 0.9: 0.733\n"
     ]
    }
   ],
   "source": [
    "k, q = 3, 0.9\n",
    "y_pred = knn_wqd(X_train, y_train, X_test, k, q)\n",
    "print(f'Точность алгоритма при k = {k}, q = {q}: {accuracy(y_pred, y_test):.3f}')"
   ]
  },
  {
   "cell_type": "code",
   "execution_count": 44,
   "metadata": {},
   "outputs": [
    {
     "name": "stdout",
     "output_type": "stream",
     "text": [
      "Точность алгоритма при k = 5, q = 0.1: 0.867\n"
     ]
    }
   ],
   "source": [
    "k, q = 5, 0.1\n",
    "y_pred = knn_wqd(X_train, y_train, X_test, k, q)\n",
    "print(f'Точность алгоритма при k = {k}, q = {q}: {accuracy(y_pred, y_test):.3f}')"
   ]
  },
  {
   "cell_type": "code",
   "execution_count": 45,
   "metadata": {},
   "outputs": [
    {
     "name": "stdout",
     "output_type": "stream",
     "text": [
      "Точность алгоритма при k = 5, q = 0.9: 0.867\n"
     ]
    }
   ],
   "source": [
    "k, q = 5, 0.9\n",
    "y_pred = knn_wqd(X_train, y_train, X_test, k, q)\n",
    "print(f'Точность алгоритма при k = {k}, q = {q}: {accuracy(y_pred, y_test):.3f}')"
   ]
  },
  {
   "cell_type": "markdown",
   "metadata": {},
   "source": [
    "При таком способе подсчета точность модели не меняется с изменением q, скорее всего, из-за того, что расстояния между всеми точками достаточно малы и разница практически не меняет предсказание."
   ]
  },
  {
   "cell_type": "code",
   "execution_count": 46,
   "metadata": {},
   "outputs": [],
   "source": [
    "# Алгоритм KNN с добавлением весов 𝑤(i)=𝑞**i ,  𝑞∈(0,1) ;\n",
    "def knn_wi(x_train, y_train, x_test, k, q):\n",
    "    \n",
    "    answers = []\n",
    "    for x in x_test:\n",
    "        distances = list(zip(map(lambda x_t: e_metrics(x, x_t), x_train), y_train))\n",
    "        \n",
    "        # создаем словарь со всеми возможными классами\n",
    "        classes = {class_item: 0 for class_item in set(y_train)}\n",
    "        \n",
    "        # Сортируем список и среди первых k элементов подсчитаем частоту появления разных классов\n",
    "        for j, d in enumerate(sorted(distances)[0:k]):\n",
    "            wi = q**j\n",
    "            classes[d[1]] += wi\n",
    "            \n",
    "        # Записываем в список ответов класс с наибольшим весом\n",
    "        answers.append(sorted(classes, key=classes.get)[-1])\n",
    "    return answers"
   ]
  },
  {
   "cell_type": "code",
   "execution_count": 47,
   "metadata": {},
   "outputs": [
    {
     "name": "stdout",
     "output_type": "stream",
     "text": [
      "Точность алгоритма при k = 1, q = 0.1: 0.667\n"
     ]
    }
   ],
   "source": [
    "k, q = 1, 0.1\n",
    "y_pred = knn_wi(X_train, y_train, X_test, k, q)\n",
    "print(f'Точность алгоритма при k = {k}, q = {q}: {accuracy(y_pred, y_test):.3f}')"
   ]
  },
  {
   "cell_type": "code",
   "execution_count": 48,
   "metadata": {},
   "outputs": [
    {
     "name": "stdout",
     "output_type": "stream",
     "text": [
      "Точность алгоритма при k = 1, q = 0.9: 0.667\n"
     ]
    }
   ],
   "source": [
    "k, q = 1, 0.9\n",
    "y_pred = knn_wi(X_train, y_train, X_test, k, q)\n",
    "print(f'Точность алгоритма при k = {k}, q = {q}: {accuracy(y_pred, y_test):.3f}')"
   ]
  },
  {
   "cell_type": "code",
   "execution_count": 49,
   "metadata": {},
   "outputs": [
    {
     "name": "stdout",
     "output_type": "stream",
     "text": [
      "Точность алгоритма при k = 3, q = 0.1: 0.667\n"
     ]
    }
   ],
   "source": [
    "k, q = 3, 0.1\n",
    "y_pred = knn_wi(X_train, y_train, X_test, k, q)\n",
    "print(f'Точность алгоритма при k = {k}, q = {q}: {accuracy(y_pred, y_test):.3f}')"
   ]
  },
  {
   "cell_type": "code",
   "execution_count": 50,
   "metadata": {},
   "outputs": [
    {
     "name": "stdout",
     "output_type": "stream",
     "text": [
      "Точность алгоритма при k = 3, q = 0.9: 0.733\n"
     ]
    }
   ],
   "source": [
    "k, q = 3, 0.9\n",
    "y_pred = knn_wi(X_train, y_train, X_test, k, q)\n",
    "print(f'Точность алгоритма при k = {k}, q = {q}: {accuracy(y_pred, y_test):.3f}')"
   ]
  },
  {
   "cell_type": "code",
   "execution_count": 51,
   "metadata": {},
   "outputs": [
    {
     "name": "stdout",
     "output_type": "stream",
     "text": [
      "Точность алгоритма при k = 5, q = 0.1: 0.667\n"
     ]
    }
   ],
   "source": [
    "k, q = 5, 0.1\n",
    "y_pred = knn_wi(X_train, y_train, X_test, k, q)\n",
    "print(f'Точность алгоритма при k = {k}, q = {q}: {accuracy(y_pred, y_test):.3f}')"
   ]
  },
  {
   "cell_type": "code",
   "execution_count": 52,
   "metadata": {},
   "outputs": [
    {
     "name": "stdout",
     "output_type": "stream",
     "text": [
      "Точность алгоритма при k = 5, q = 0.9: 0.867\n"
     ]
    }
   ],
   "source": [
    "k, q = 5, 0.9\n",
    "y_pred = knn_wi(X_train, y_train, X_test, k, q)\n",
    "print(f'Точность алгоритма при k = {k}, q = {q}: {accuracy(y_pred, y_test):.3f}')"
   ]
  },
  {
   "cell_type": "markdown",
   "metadata": {},
   "source": [
    "При больших q точность алгоритма возрастает с увеличением количества соседей, а при малых нет - видимо, потому, что в этом случае наибольший влияние имеет первый сосед, а с дальними соседями вес получается столь мал, что они перестают влиять на модель."
   ]
  },
  {
   "cell_type": "markdown",
   "metadata": {},
   "source": [
    "#### 2*. Написать функцию подсчета метрики качества кластеризации как среднее квадратичное внутриклассовое расстояние и построить график ее зависимости от количества кластеров k (взять от 1 до 10) для выборки данных из данного урока (создать датасет, как в методичке)."
   ]
  },
  {
   "cell_type": "code",
   "execution_count": 53,
   "metadata": {},
   "outputs": [],
   "source": [
    "def kmeans(data, k, max_iterations, min_distance):    \n",
    "    # инициализируем центроиды как первые k элементов датасета\n",
    "    centroids = [data[i] for i in range(k)]\n",
    "    \n",
    "    for _ in range(max_iterations):\n",
    "        # Создадим словарь для классификации\n",
    "        classes = {i: [] for i in range(k)}\n",
    "        \n",
    "        # классифицируем объекты по центроидам\n",
    "        for x in data:\n",
    "            # определим расстояния от объекта до каждого центроида\n",
    "            distances = [e_metrics(x, centroid) for centroid in centroids]\n",
    "            # отнесем объект к кластеру, до центроида которого наименьшее расстояние\n",
    "            classification = distances.index(min(distances))\n",
    "            classes[classification].append(x)\n",
    "        \n",
    "        # сохраним предыдущие центроиды в отдельный список для последующего сравнения сновыми\n",
    "        old_centroids = centroids.copy()\n",
    "        \n",
    "        # пересчитаем центроиды как среднее по кластерам\n",
    "        for classification in classes:\n",
    "            centroids[classification] = np.average(classes[classification], axis=0)\n",
    "            \n",
    "        # сравним величину смещения центроидов с минимальной\n",
    "        optimal = True\n",
    "        for centroid in range(len(centroids)):\n",
    "            if np.sum(abs((centroids[centroid] - old_centroids[centroid]) / old_centroids * 100)) > min_distance:\n",
    "                optimal = False\n",
    "                \n",
    "        # если все смещения меньше минимального, останавливаем алгоритм  \n",
    "        if optimal:\n",
    "            break\n",
    "    \n",
    "    return old_centroids, classes"
   ]
  },
  {
   "cell_type": "code",
   "execution_count": 54,
   "metadata": {},
   "outputs": [],
   "source": [
    "def mean_sq_inclass_dist(centroids, clusters):\n",
    "    inclass_distances = {}\n",
    "    sum_inclass_distances = 0\n",
    "    for key in clusters:\n",
    "        sq_distance = 0\n",
    "        for value in clusters[key]:\n",
    "            distance = e_metrics(value, centroids[key])\n",
    "            sq_distance += distance**2\n",
    "        inclass_distances[key] = sq_distance/len(clusters[key])\n",
    "        sum_inclass_distances += inclass_distances[key]\n",
    "    mean_distance = sum_inclass_distances/len(inclass_distances)\n",
    "    return inclass_distances, mean_distance"
   ]
  },
  {
   "cell_type": "code",
   "execution_count": 55,
   "metadata": {},
   "outputs": [],
   "source": [
    "# определим максимальное количество итераций\n",
    "max_iterations = 1\n",
    "\n",
    "# и минимальное расстояние между центроидами до пересчета и после него, при котором нужно остановить алгоритм\n",
    "min_distance = 1e-4\n",
    "\n",
    "x = np.arange(1, 11)\n",
    "y = []\n",
    "for k in x:\n",
    "    centroids, clusters = kmeans(X, k, max_iterations, min_distance)\n",
    "    inclass_distances, mean_distance = mean_sq_inclass_dist(centroids, clusters)\n",
    "    y.append(mean_distance)"
   ]
  },
  {
   "cell_type": "code",
   "execution_count": 56,
   "metadata": {},
   "outputs": [
    {
     "data": {
      "image/png": "[encoded data removed]",
      "text/plain": [
       "<Figure size 432x288 with 1 Axes>"
      ]
     },
     "metadata": {
      "needs_background": "light"
     },
     "output_type": "display_data"
    }
   ],
   "source": [
    "fig, ax = plt.subplots()\n",
    "ax.plot(x, y,\n",
    "        linestyle = '-',\n",
    "        linewidth = 2,\n",
    "        color = 'r',\n",
    "       label='Среднее внутрикластерное расстояние')\n",
    "ax.legend();"
   ]
  },
  {
   "cell_type": "markdown",
   "metadata": {},
   "source": [
    "С увеличением количества кластеров внутрикластерное расстояние уменьшается, что логично."
   ]
  },
  {
   "cell_type": "code",
   "execution_count": null,
   "metadata": {},
   "outputs": [],
   "source": []
  }
 ],
 "metadata": {
  "kernelspec": {
   "display_name": "Python 3",
   "language": "python",
   "name": "python3"
  },
  "language_info": {
   "codemirror_mode": {
    "name": "ipython",
    "version": 3
   },
   "file_extension": ".py",
   "mimetype": "text/x-python",
   "name": "python",
   "nbconvert_exporter": "python",
   "pygments_lexer": "ipython3",
   "version": "3.8.3"
  }
 },
 "nbformat": 4,
 "nbformat_minor": 4
}
